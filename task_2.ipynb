{
 "cells": [
  {
   "cell_type": "code",
   "execution_count": 36,
   "id": "46ad05fb",
   "metadata": {},
   "outputs": [],
   "source": [
    "import pandas as pd\n",
    "import numpy as np\n",
    "from sklearn.pipeline import Pipeline\n",
    "from sklearn.compose import ColumnTransformer\n",
    "from sklearn.preprocessing import OneHotEncoder, StandardScaler\n",
    "from sklearn.impute import SimpleImputer\n",
    "from sklearn.base import BaseEstimator, TransformerMixin\n"
   ]
  },
  {
   "cell_type": "code",
   "execution_count": 38,
   "id": "962dfa10",
   "metadata": {},
   "outputs": [],
   "source": [
    "# Step 1: Load and clean base data\n",
    "# ---------------------------------\n",
    "df = pd.read_csv(\"dataset/Telco-Customer-Churn.csv\")\n",
    "df.drop(\"customerID\", axis=1, inplace=True)\n",
    "df[\"TotalCharges\"] = pd.to_numeric(df[\"TotalCharges\"].replace(\" \", np.nan), errors=\"coerce\")\n",
    "df[\"SeniorCitizen\"] = df[\"SeniorCitizen\"].map({1: \"Yes\", 0: \"No\"})\n",
    "df.dropna(inplace=True)\n",
    "df.drop_duplicates(inplace=True)\n",
    "df[\"Churn\"] = df[\"Churn\"].map({\"Yes\": 1, \"No\": 0})\n"
   ]
  },
  {
   "cell_type": "code",
   "execution_count": 39,
   "id": "9c777e32",
   "metadata": {},
   "outputs": [],
   "source": [
    "# Step 2: Feature Engineering manually (outside pipeline)\n",
    "# ---------------------------------\n",
    "service_cols = [\"PhoneService\", \"MultipleLines\", \"InternetService\", \"OnlineSecurity\",\n",
    "                \"OnlineBackup\", \"DeviceProtection\", \"TechSupport\", \"StreamingTV\", \"StreamingMovies\"]\n",
    "\n",
    "df[\"ServicesCount\"] = df[service_cols].apply(lambda x: (x == \"Yes\").sum(), axis=1)\n",
    "\n",
    "df[\"TenureGroup\"] = pd.cut(df[\"tenure\"],\n",
    "                           bins=[0, 6, 12, 24, 48, 72],\n",
    "                           labels=[\"0-6 Mo\", \"6-12 Mo\", \"1-2 Yr\", \"2-4 Yr\", \"4-6 Yr\"])\n"
   ]
  },
  {
   "cell_type": "code",
   "execution_count": 40,
   "id": "14b7878c",
   "metadata": {},
   "outputs": [],
   "source": [
    "# Step 3: Define preprocessing pipeline\n",
    "# ---------------------------------\n",
    "numerical_cols = ['tenure', 'MonthlyCharges', 'TotalCharges']\n",
    "categorical_cols = ['gender', 'SeniorCitizen', 'Partner', 'Dependents', 'InternetService',\n",
    "                    'OnlineSecurity', 'OnlineBackup', 'DeviceProtection', 'TechSupport',\n",
    "                    'StreamingTV', 'StreamingMovies', 'Contract', 'PaperlessBilling',\n",
    "                    'PaymentMethod', 'TenureGroup']\n",
    "\n",
    "numeric_transformer = Pipeline([\n",
    "    (\"imputer\", SimpleImputer(strategy=\"median\")),\n",
    "    (\"scaler\", StandardScaler())\n",
    "])\n",
    "\n",
    "categorical_transformer = Pipeline([\n",
    "    (\"imputer\", SimpleImputer(strategy=\"most_frequent\")),\n",
    "    (\"encoder\", OneHotEncoder(drop=\"first\", sparse_output=False, handle_unknown=\"ignore\"))\n",
    "])\n",
    "\n",
    "preprocessor = ColumnTransformer([\n",
    "    (\"num\", numeric_transformer, numerical_cols),\n",
    "    (\"cat\", categorical_transformer, categorical_cols)\n",
    "])\n",
    "\n",
    "pipeline = Pipeline([\n",
    "    (\"preprocessor\", preprocessor)\n",
    "])"
   ]
  },
  {
   "cell_type": "code",
   "execution_count": 41,
   "id": "9f6d43c5",
   "metadata": {},
   "outputs": [],
   "source": [
    "# Step 4: Fit-transform the pipeline\n",
    "# ---------------------------------\n",
    "X = df[numerical_cols + categorical_cols]\n",
    "y = df[\"Churn\"]\n",
    "\n",
    "X_transformed = pipeline.fit_transform(X)"
   ]
  },
  {
   "cell_type": "code",
   "execution_count": 44,
   "id": "451ff6a1",
   "metadata": {},
   "outputs": [],
   "source": [
    "# Step 5: Assemble final DataFrame\n",
    "# ---------------------------------\n",
    "cat_feature_names = pipeline.named_steps[\"preprocessor\"] \\\n",
    "                            .named_transformers_[\"cat\"] \\\n",
    "                            .named_steps[\"encoder\"] \\\n",
    "                            .get_feature_names_out(categorical_cols)\n",
    "\n",
    "final_feature_names = numerical_cols + list(cat_feature_names)\n",
    "df_processed = pd.DataFrame(X_transformed, columns=final_feature_names)\n",
    "\n",
    "# Add back manual features\n",
    "df_processed[\"ServicesCount\"] = df[\"ServicesCount\"].values\n",
    "df_processed[\"Churn\"] = y.values\n",
    "# Add unified readable TenureGroup column back\n",
    "df_processed[\"TenureGroup\"] = df[\"TenureGroup\"].values\n",
    "\n",
    "# Optional: Reorder columns for readability\n",
    "cols = df_processed.columns.tolist()\n",
    "cols_reordered = cols.copy()\n",
    "# Move 'TenureGroup' next to 'tenure' and before churn\n",
    "cols_reordered.remove(\"TenureGroup\")\n",
    "cols_reordered.insert(cols_reordered.index(\"tenure\") + 1, \"TenureGroup\")\n",
    "df_processed = df_processed[cols_reordered]"
   ]
  },
  {
   "cell_type": "code",
   "execution_count": 45,
   "id": "513fd386",
   "metadata": {},
   "outputs": [
    {
     "name": "stdout",
     "output_type": "stream",
     "text": [
      "✅ Final cleaned file created: telecom_advanced_clean.csv (with unified TenureGroup)\n"
     ]
    }
   ],
   "source": [
    "# Save to file\n",
    "df_processed.to_csv(\"telecom_advanced_clean.csv\", index=False)\n",
    "print(\"✅ Final cleaned file created: telecom_advanced_clean.csv (with unified TenureGroup)\")"
   ]
  },
  {
   "cell_type": "code",
   "execution_count": null,
   "id": "63d852c6",
   "metadata": {},
   "outputs": [],
   "source": []
  },
  {
   "cell_type": "code",
   "execution_count": null,
   "id": "74fdc3a2",
   "metadata": {},
   "outputs": [],
   "source": []
  },
  {
   "cell_type": "code",
   "execution_count": null,
   "id": "db94408b",
   "metadata": {},
   "outputs": [],
   "source": []
  },
  {
   "cell_type": "code",
   "execution_count": null,
   "id": "821ed82b",
   "metadata": {},
   "outputs": [],
   "source": []
  }
 ],
 "metadata": {
  "kernelspec": {
   "display_name": "Python 3",
   "language": "python",
   "name": "python3"
  },
  "language_info": {
   "codemirror_mode": {
    "name": "ipython",
    "version": 3
   },
   "file_extension": ".py",
   "mimetype": "text/x-python",
   "name": "python",
   "nbconvert_exporter": "python",
   "pygments_lexer": "ipython3",
   "version": "3.13.5"
  }
 },
 "nbformat": 4,
 "nbformat_minor": 5
}
